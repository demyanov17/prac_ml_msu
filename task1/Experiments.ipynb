{
 "cells": [
  {
   "cell_type": "code",
   "execution_count": 1,
   "metadata": {},
   "outputs": [],
   "source": [
    "import numpy as np\n",
    "from distances import euclidean_distance, cosine_distance\n",
    "from nearest_neighbors import KNNClassifier\n",
    "from cross_validation import kfold, knn_cross_val_score"
   ]
  },
  {
   "cell_type": "code",
   "execution_count": 2,
   "metadata": {},
   "outputs": [],
   "source": [
    "from sklearn.datasets import fetch_openml\n",
    "X, y = fetch_openml('mnist_784', return_X_y=True)\n",
    "X_train, X_test = X[:60000], X[60000:]\n",
    "y_train, y_test = y[:60000], y[60000:]"
   ]
  },
  {
   "cell_type": "markdown",
   "metadata": {},
   "source": [
    "### Эксперимент №1\n",
    "\n",
    "**Условие**: исследовать, какой алгоритм поиска ближайших соседей будет быстрее работать в различных ситуациях. Для каждого объекта тестовой выборки найти 5 его ближайших соседей в обучающей для евклидовой метрики. Для выборки нужно выбрать подмножество признаков, по которому будет считаться расстояние, размера 10, 20, 100 (подмножество признаков выбирается один раз для всех объектов, случайно). Необходимо проверить все алгоритмы поиска ближайших соседей, указанные в спецификации к заданию."
   ]
  },
  {
   "cell_type": "code",
   "execution_count": 14,
   "metadata": {},
   "outputs": [],
   "source": [
    "# Генератор случайных номеров признаков\n",
    "a = np.random.permutation(X.shape[1])[:10]\n",
    "b = np.random.permutation(X.shape[1])[:20]\n",
    "c = np.random.permutation(X.shape[1])[:100]"
   ]
  },
  {
   "cell_type": "code",
   "execution_count": 15,
   "metadata": {},
   "outputs": [],
   "source": [
    "X_tr_a, X_t_a = X_train[:, a], X_test[:, a]\n",
    "X_tr_b, X_t_b = X_train[:, b], X_test[:, b]\n",
    "X_tr_c, X_t_c = X_train[:, c], X_test[:, c]"
   ]
  },
  {
   "cell_type": "code",
   "execution_count": 16,
   "metadata": {},
   "outputs": [
    {
     "name": "stdout",
     "output_type": "stream",
     "text": [
      "number of features is 10, time is 240.01704907417297 seconds\n",
      "number of features is 20, time is 316.8139147758484 seconds\n",
      "number of features is 100, time is 346.03232979774475 seconds\n"
     ]
    }
   ],
   "source": [
    "# Время работы алгоритма 'my_own'\n",
    "import time\n",
    "start_time = time.time()\n",
    "cl = KNNClassifier(k=5, strategy='my_own', metric='euclidean', weights = False, test_block_size=1)\n",
    "cl.fit(X_tr_a, y_train)\n",
    "cl.find_kneighbors(X_t_a, return_distance=False)\n",
    "time = (time.time() - start_time)\n",
    "print('number of features is 10,', 'time is',\"%s seconds\" % time)\n",
    "\n",
    "import time\n",
    "start_time = time.time()\n",
    "cl = KNNClassifier(k=5, strategy='my_own', metric='euclidean', weights = False, test_block_size=1)\n",
    "cl.fit(X_tr_b, y_train)\n",
    "cl.find_kneighbors(X_t_b, return_distance=False)\n",
    "time = (time.time() - start_time)\n",
    "print('number of features is 20,', 'time is',\"%s seconds\" % time)\n",
    "\n",
    "import time\n",
    "start_time = time.time()\n",
    "cl = KNNClassifier(k=5, strategy='my_own', metric='euclidean', weights = False, test_block_size=1)\n",
    "cl.fit(X_tr_c, y_train)\n",
    "cl.find_kneighbors(X_t_c, return_distance=False)\n",
    "time = (time.time() - start_time)\n",
    "print('number of features is 100,', 'time is',\"%s seconds\" % time)"
   ]
  },
  {
   "cell_type": "code",
   "execution_count": 20,
   "metadata": {},
   "outputs": [
    {
     "name": "stdout",
     "output_type": "stream",
     "text": [
      "number of features is 10, time is 15.89961290359497 seconds\n",
      "number of features is 20, time is 15.501868963241577 seconds\n",
      "number of features is 100, time is 18.60097908973694 seconds\n"
     ]
    }
   ],
   "source": [
    "# Время работы алгоритма 'brute'\n",
    "import time\n",
    "start_time = time.time()\n",
    "cl = KNNClassifier(k=5, strategy='brute', metric='euclidean', weights = False, test_block_size=1)\n",
    "cl.fit(X_tr_a, y_train)\n",
    "cl.find_kneighbors(X_t_a, return_distance=False)\n",
    "time = (time.time() - start_time)\n",
    "print('number of features is 10,', 'time is',\"%s seconds\" % time)\n",
    "\n",
    "import time\n",
    "start_time = time.time()\n",
    "cl = KNNClassifier(k=5, strategy='brute', metric='euclidean', weights = False, test_block_size=1)\n",
    "cl.fit(X_tr_b, y_train)\n",
    "cl.find_kneighbors(X_t_b, return_distance=False)\n",
    "time = (time.time() - start_time)\n",
    "print('number of features is 20,', 'time is',\"%s seconds\" % time)\n",
    "\n",
    "import time\n",
    "start_time = time.time()\n",
    "cl = KNNClassifier(k=5, strategy='brute', metric='euclidean', weights = False, test_block_size=1)\n",
    "cl.fit(X_tr_c, y_train)\n",
    "cl.find_kneighbors(X_t_c, return_distance=False)\n",
    "time = (time.time() - start_time)\n",
    "print('number of features is 100,', 'time is',\"%s seconds\" % time)"
   ]
  },
  {
   "cell_type": "code",
   "execution_count": 13,
   "metadata": {},
   "outputs": [
    {
     "name": "stdout",
     "output_type": "stream",
     "text": [
      "number of features is 10, time is 2.6283137798309326 seconds\n",
      "number of features is 20, time is 16.898250818252563 seconds\n",
      "number of features is 100, time is 154.25878810882568 seconds\n"
     ]
    }
   ],
   "source": [
    "# Время работы алгоритма 'kd_tree'\n",
    "import time\n",
    "start_time = time.time()\n",
    "cl = KNNClassifier(k=5, strategy='kd_tree', metric='euclidean', weights = False, test_block_size=1)\n",
    "cl.fit(X_tr_a, y_train)\n",
    "cl.find_kneighbors(X_t_a, return_distance=False)\n",
    "time = (time.time() - start_time)\n",
    "print('number of features is 10,', 'time is',\"%s seconds\" % time)\n",
    "\n",
    "import time\n",
    "start_time = time.time()\n",
    "cl = KNNClassifier(k=5, strategy='kd_tree', metric='euclidean', weights = False, test_block_size=1)\n",
    "cl.fit(X_tr_b, y_train)\n",
    "cl.find_kneighbors(X_t_b, return_distance=False)\n",
    "time = (time.time() - start_time)\n",
    "print('number of features is 20,', 'time is',\"%s seconds\" % time)\n",
    "\n",
    "import time\n",
    "start_time = time.time()\n",
    "cl = KNNClassifier(k=5, strategy='kd_tree', metric='euclidean', weights = False, test_block_size=1)\n",
    "cl.fit(X_tr_c, y_train)\n",
    "cl.find_kneighbors(X_t_c, return_distance=False)\n",
    "time = (time.time() - start_time)\n",
    "print('number of features is 100,', 'time is',\"%s seconds\" % time)"
   ]
  },
  {
   "cell_type": "code",
   "execution_count": 14,
   "metadata": {},
   "outputs": [
    {
     "name": "stdout",
     "output_type": "stream",
     "text": [
      "number of features is 10, time is 12.218386173248291 seconds\n",
      "number of features is 20, time is 41.74462270736694 seconds\n",
      "number of features is 100, time is 155.46788477897644 seconds\n"
     ]
    }
   ],
   "source": [
    "# Время работы алгоритма 'ball_tree'\n",
    "import time\n",
    "start_time = time.time()\n",
    "cl = KNNClassifier(k=5, strategy='ball_tree', metric='euclidean', weights = False, test_block_size=1)\n",
    "cl.fit(X_tr_a, y_train)\n",
    "cl.find_kneighbors(X_t_a, return_distance=False)\n",
    "time = (time.time() - start_time)\n",
    "print('number of features is 10,', 'time is',\"%s seconds\" % time)\n",
    "\n",
    "import time\n",
    "start_time = time.time()\n",
    "cl = KNNClassifier(k=5, strategy='ball_tree', metric='euclidean', weights = False, test_block_size=1)\n",
    "cl.fit(X_tr_b, y_train)\n",
    "cl.find_kneighbors(X_t_b, return_distance=False)\n",
    "time = (time.time() - start_time)\n",
    "print('number of features is 20,', 'time is',\"%s seconds\" % time)\n",
    "\n",
    "import time\n",
    "start_time = time.time()\n",
    "cl = KNNClassifier(k=5, strategy='ball_tree', metric='euclidean', weights = False, test_block_size=1)\n",
    "cl.fit(X_tr_c, y_train)\n",
    "cl.find_kneighbors(X_t_c, return_distance=False)\n",
    "time = (time.time() - start_time)\n",
    "print('number of features is 100,', 'time is',\"%s seconds\" % time)"
   ]
  },
  {
   "cell_type": "markdown",
   "metadata": {},
   "source": [
    "### Эксперимент №2\n",
    "\n",
    "**Условие**: оценить по кросс-валидации с 3 фолдами точность (долю правильно предсказанных ответов) и время работы k ближайших соседей в зависимости от следующих факторов:\n",
    "* (a) k от 1 до 10 (только влияние на точность).\n",
    "* (b) Используется евклидова или косинусная метрика."
   ]
  },
  {
   "cell_type": "code",
   "execution_count": 53,
   "metadata": {},
   "outputs": [
    {
     "data": {
      "text/plain": [
       "{1: array([0.96895, 0.96675, 0.9667 ]),\n",
       " 2: array([0.9603 , 0.95995, 0.96125]),\n",
       " 3: array([0.96955, 0.96825, 0.96715]),\n",
       " 4: array([0.96705, 0.9667 , 0.9671 ]),\n",
       " 5: array([0.9681, 0.9673, 0.9672]),\n",
       " 6: array([0.96555, 0.96495, 0.9657 ]),\n",
       " 7: array([0.9652, 0.965 , 0.9656]),\n",
       " 8: array([0.96415, 0.9639 , 0.96525]),\n",
       " 9: array([0.9637 , 0.9632 , 0.96455]),\n",
       " 10: array([0.96245, 0.9622 , 0.9637 ])}"
      ]
     },
     "execution_count": 53,
     "metadata": {},
     "output_type": "execute_result"
    }
   ],
   "source": [
    "# (a)\n",
    "k_lst = [i for i in range(1, 11)]\n",
    "knn_cross_val_score(X_train, y_train.astype(np.int), k_list=k_lst,\n",
    "                    score='accuracy', cv=None, k=5,\n",
    "                    strategy='brute', metric='euclidean',\n",
    "                    weights=False, test_block_size=1)"
   ]
  },
  {
   "cell_type": "code",
   "execution_count": 4,
   "metadata": {},
   "outputs": [
    {
     "name": "stdout",
     "output_type": "stream",
     "text": [
      "euclidean metric, time is 28.817243099212646 seconds\n",
      "score -- dict_values([array([0.9681, 0.9673, 0.9672])])\n",
      "cosine metric, time is 34.93546104431152 seconds\n",
      "score -- dict_values([array([0.97275, 0.97015, 0.9716 ])])\n"
     ]
    }
   ],
   "source": [
    "# (b)\n",
    "import time\n",
    "start_time = time.time()\n",
    "knnClassifier1 = KNNClassifier(k=5, strategy='brute', metric='euclidean',\n",
    "                               weights=False, test_block_size=1)\n",
    "knnClassifier1.fit(X_train, y_train)\n",
    "knnClassifier1.find_kneighbors(X_test, return_distance=False)\n",
    "time = (time.time() - start_time)\n",
    "print('euclidean metric,', 'time is', \"%s seconds\" % time)\n",
    "print('score --', knn_cross_val_score(X_train, y_train.astype(np.int),\n",
    "      k_list=[5], score='accuracy', cv=None, k=5, strategy='brute',\n",
    "      metric='euclidean', weights=False, test_block_size=1).values())\n",
    "\n",
    "import time\n",
    "start_time = time.time()\n",
    "knnClassifier2 = KNNClassifier(k=5, strategy='brute', metric='cosine',\n",
    "                               weights=False, test_block_size=1)\n",
    "knnClassifier2.fit(X_train, y_train)\n",
    "knnClassifier2.find_kneighbors(X_test, return_distance=False)\n",
    "time = (time.time() - start_time)\n",
    "print('cosine metric,', 'time is', \"%s seconds\" % time)\n",
    "print('score --', knn_cross_val_score(X_train, y_train.astype(np.int),\n",
    "      k_list=[5], score='accuracy', cv=None, k=5, strategy='brute',\n",
    "      metric='cosine', weights=False, test_block_size=1).values())"
   ]
  },
  {
   "cell_type": "markdown",
   "metadata": {},
   "source": [
    "### Эксперимент №3\n",
    "\n",
    "**Условие**: сравнить взвешенный метод k ближайших соседей, где голос объекта равен 1/(distance + ε), где ε — 10−5, с методом без весов при тех же фолдах и параметрах."
   ]
  },
  {
   "cell_type": "code",
   "execution_count": 72,
   "metadata": {},
   "outputs": [
    {
     "name": "stdout",
     "output_type": "stream",
     "text": [
      "unweighted method: score -- dict_values([array([0.9681, 0.9673, 0.9672])])\n",
      "time is 29.51373314857483 seconds\n",
      "weighted method: score -- dict_values([array([0.96925, 0.96825, 0.96875])])\n",
      "time is 30.208980083465576 seconds\n"
     ]
    }
   ],
   "source": [
    "print('unweighted method: score --', knn_cross_val_score(X_train,\n",
    "      y_train.astype(np.int),\n",
    "      k_list=[5], score='accuracy', cv=None, k=5, strategy='brute',\n",
    "      metric='euclidean', weights=False, test_block_size=1).values())\n",
    "\n",
    "import time\n",
    "start_time = time.time()\n",
    "knnClassifier1 = KNNClassifier(k=5, strategy='brute', metric='euclidean',\n",
    "                               weights=False, test_block_size=1)\n",
    "knnClassifier1.fit(X_train, y_train)\n",
    "knnClassifier1.find_kneighbors(X_test, return_distance=False)\n",
    "time = (time.time() - start_time)\n",
    "print('time is', \"%s seconds\" % time)\n",
    "\n",
    "print('weighted method: score --', knn_cross_val_score(X_train,\n",
    "      y_train.astype(np.int),\n",
    "      k_list=[5], score='accuracy', cv=None, k=5, strategy='brute',\n",
    "      metric='euclidean', weights=True, test_block_size=1).values())\n",
    "\n",
    "import time\n",
    "start_time = time.time()\n",
    "knnClassifier2 = KNNClassifier(k=5, strategy='brute', metric='euclidean',\n",
    "                               weights=True, test_block_size=1)\n",
    "knnClassifier2.fit(X_train, y_train)\n",
    "knnClassifier2.find_kneighbors(X_test, return_distance=True)\n",
    "time = (time.time() - start_time)\n",
    "print('time is', \"%s seconds\" % time)"
   ]
  },
  {
   "cell_type": "markdown",
   "metadata": {},
   "source": [
    "### Эксперимент №4\n",
    "\n",
    "**Условие**: применить лучший алгоритм к исходной обучающей и тестовой выборке. Подсчитать точность. Сравнить с точностью по кросс-валидации с 3 фолдами. Сравнить с указанной в интернете точностью лучших алгоритмов на данной выборке. Построить и проанализировать матрицу ошибок (confusion matrix). Визуализировать несколько объектов из тестовой выборки, на которых были допущены ошибки. Проанализировать и указать их общие черты."
   ]
  },
  {
   "cell_type": "code",
   "execution_count": 23,
   "metadata": {},
   "outputs": [
    {
     "name": "stdout",
     "output_type": "stream",
     "text": [
      "train predict accuracy: 1.0\n",
      "test predict accuracy: 0.9742\n"
     ]
    }
   ],
   "source": [
    "knnClassifier = KNNClassifier(k=3, strategy='brute', metric='cosine',\n",
    "                               weights=True, test_block_size=1)\n",
    "knnClassifier.fit(X_train, y_train)\n",
    "y_pred_train = knnClassifier.predict(X_train)\n",
    "y_pred_test = knnClassifier.predict(X_test)\n",
    "\n",
    "n_correct = np.sum(y_pred_train == y_train.astype(np.int))\n",
    "accuracy = n_correct / y_train.shape[0]\n",
    "print('train predict accuracy:', accuracy)\n",
    "\n",
    "n_correct = np.sum(y_pred_test == y_test.astype(np.int))\n",
    "accuracy = n_correct / y_test.shape[0]\n",
    "print('test predict accuracy:', accuracy)"
   ]
  },
  {
   "cell_type": "code",
   "execution_count": 26,
   "metadata": {},
   "outputs": [
    {
     "name": "stdout",
     "output_type": "stream",
     "text": [
      "score -- dict_values([array([0.97495, 0.9725 , 0.97175])])\n"
     ]
    }
   ],
   "source": [
    "print('score --', knn_cross_val_score(X_train,\n",
    "      y_train.astype(np.int),\n",
    "      k_list=[3], score='accuracy', cv=None, k=3, strategy='brute',\n",
    "      metric='cosine', weights=True, test_block_size=1).values())"
   ]
  },
  {
   "cell_type": "markdown",
   "metadata": {},
   "source": [
    "#### Точность лучших алгоритмов на данной выборке\n",
    "На сайте MNIST(http://yann.lecun.com/exdb/mnist/) можно найти список лучших результатов, достигнутых алгоритмами на это наборе данных. Так, худший из записанных результатов достигнут простым линейным классификатором (12% ошибок), а подавляющее большинство лучших результатов получены алгоритмами на основе нейронных сетей. Так, ансамбль из 35 сверточных нейронных сетей в 2012 году сумел получить всего 0.23% ошибок на наборе данных, что является очень хорошим результатом, вполне сравнимым с человеком: classifier - committee of 35 conv.net, 1-20-P-40-P150-10 (elastic distortions)."
   ]
  },
  {
   "cell_type": "code",
   "execution_count": 27,
   "metadata": {},
   "outputs": [
    {
     "data": {
      "text/plain": [
       "array([[5923,    0,    0,    0,    0,    0,    0,    0,    0,    0],\n",
       "       [   0, 6742,    0,    0,    0,    0,    0,    0,    0,    0],\n",
       "       [   0,    0, 5958,    0,    0,    0,    0,    0,    0,    0],\n",
       "       [   0,    0,    0, 6131,    0,    0,    0,    0,    0,    0],\n",
       "       [   0,    0,    0,    0, 5842,    0,    0,    0,    0,    0],\n",
       "       [   0,    0,    0,    0,    0, 5421,    0,    0,    0,    0],\n",
       "       [   0,    0,    0,    0,    0,    0, 5918,    0,    0,    0],\n",
       "       [   0,    0,    0,    0,    0,    0,    0, 6265,    0,    0],\n",
       "       [   0,    0,    0,    0,    0,    0,    0,    0, 5851,    0],\n",
       "       [   0,    0,    0,    0,    0,    0,    0,    0,    0, 5949]])"
      ]
     },
     "execution_count": 27,
     "metadata": {},
     "output_type": "execute_result"
    }
   ],
   "source": [
    "from sklearn.metrics import confusion_matrix\n",
    "confusion_matrix(y_train, y_pred_train.astype(np.str))"
   ]
  },
  {
   "cell_type": "code",
   "execution_count": 28,
   "metadata": {},
   "outputs": [
    {
     "data": {
      "text/plain": [
       "array([[ 977,    1,    0,    0,    0,    0,    1,    1,    0,    0],\n",
       "       [   0, 1130,    3,    1,    0,    0,    1,    0,    0,    0],\n",
       "       [   8,    1, 1009,    1,    1,    0,    0,    8,    4,    0],\n",
       "       [   0,    1,    3,  975,    0,   13,    0,    5,    7,    6],\n",
       "       [   2,    2,    0,    0,  946,    0,    6,    1,    1,   24],\n",
       "       [   4,    0,    0,    9,    1,  859,    7,    1,    6,    5],\n",
       "       [   4,    2,    0,    0,    2,    3,  947,    0,    0,    0],\n",
       "       [   1,   10,    6,    0,    1,    0,    0,  996,    0,   14],\n",
       "       [   6,    2,    2,   10,    4,    4,    4,    3,  936,    3],\n",
       "       [   8,    7,    2,    5,    7,    3,    1,    6,    3,  967]])"
      ]
     },
     "execution_count": 28,
     "metadata": {},
     "output_type": "execute_result"
    }
   ],
   "source": [
    "confusion_matrix(y_test, y_pred_test.astype(np.str))"
   ]
  },
  {
   "cell_type": "code",
   "execution_count": 29,
   "metadata": {},
   "outputs": [
    {
     "data": {
      "text/plain": [
       "array([[ 115,  571,  707,  740,  774,  881, 1178, 1242, 1422, 2130, 2447,\n",
       "        2771, 2901, 3405, 3490, 4017, 4194, 4598, 4860, 4911, 5936, 8520,\n",
       "        8527, 9211]])"
      ]
     },
     "execution_count": 29,
     "metadata": {},
     "output_type": "execute_result"
    }
   ],
   "source": [
    "np.array(np.where((y_pred_test==9) & (y_test=='4')))"
   ]
  },
  {
   "cell_type": "code",
   "execution_count": 46,
   "metadata": {},
   "outputs": [
    {
     "data": {
      "application/pdf": "[encoded data removed]",
      "text/plain": [
       "<Figure size 432x288 with 1 Axes>"
      ]
     },
     "metadata": {
      "needs_background": "light"
     },
     "output_type": "display_data"
    }
   ],
   "source": [
    "import matplotlib\n",
    "import matplotlib.pyplot as plt\n",
    "%matplotlib inline \n",
    "%config InlineBackend.figure_format = 'pdf'\n",
    "\n",
    "label = y_test[4911]\n",
    "\n",
    "# The rest of columns are pixels\n",
    "pixels = X_test[4911]\n",
    "\n",
    "# Make those columns into a array of 8-bits pixels\n",
    "# This array will be of 1D with length 784\n",
    "# The pixel intensity values are integers from 0 to 255\n",
    "pixels = np.array(pixels, dtype='uint8')\n",
    "\n",
    "# Reshape the array into 28 x 28 array (2-dimensional array)\n",
    "pixels = pixels.reshape((28, 28))\n",
    "\n",
    "# Plot\n",
    "plt.title('Label is {label}'.format(label=label))\n",
    "plt.imshow(pixels, cmap=\"Greys\")\n",
    "plt.show()"
   ]
  },
  {
   "cell_type": "code",
   "execution_count": 33,
   "metadata": {},
   "outputs": [],
   "source": [
    "cl = ['0', '1', '2','3','4','5','6','7','8','9']"
   ]
  },
  {
   "cell_type": "code",
   "execution_count": 65,
   "metadata": {},
   "outputs": [
    {
     "data": {
      "application/pdf": "[encoded data removed]",
      "text/plain": [
       "<Figure size 720x720 with 2 Axes>"
      ]
     },
     "metadata": {
      "needs_background": "light"
     },
     "output_type": "display_data"
    }
   ],
   "source": [
    "import numpy as np\n",
    "import itertools\n",
    "from sklearn.metrics import confusion_matrix\n",
    "%matplotlib inline\n",
    "%config InlineBackend.figure_format = 'pdf'\n",
    "def plot_confusion_matrix(cm, classes,\n",
    "                          normalize=False,\n",
    "                          title='Confusion matrix',\n",
    "                          cmap=plt.cm.winter):\n",
    "\n",
    "    plt.imshow(cm, interpolation='nearest', cmap=cmap)\n",
    "    plt.title(title, fontsize=30)\n",
    "    plt.colorbar()\n",
    "    tick_marks = np.arange(len(classes))\n",
    "    plt.xticks(tick_marks, classes, fontsize=20)\n",
    "    plt.yticks(tick_marks, classes, fontsize=20)\n",
    "\n",
    "    fmt = '.2f' if normalize else 'd'\n",
    "    thresh = cm.max() / 2.\n",
    "\n",
    "    for i, j in itertools.product(range(cm.shape[0]), range(cm.shape[1])):\n",
    "        plt.text(j, i, format(cm[i, j], fmt), horizontalalignment=\"center\", \n",
    "                 color=\"white\" if cm[i, j] < thresh else \"black\", fontsize=20)\n",
    "\n",
    "    plt.tight_layout()\n",
    "    plt.xlabel('Predicted label', fontsize=20)\n",
    "\n",
    "    return plt\n",
    "cm = confusion_matrix(y_test, y_pred_test.astype(np.str))\n",
    "fig = plt.figure(figsize=(10, 10))\n",
    "plot = plot_confusion_matrix(cm, classes=cl, normalize=False, title='Confusion matrix')\n",
    "plt.savefig('line.pdf')"
   ]
  },
  {
   "cell_type": "markdown",
   "metadata": {},
   "source": [
    "### Эксперимент №5\n",
    "\n",
    "**Условие**: Размножить обучающую выборку с помощью поворотов, смещений и применений гауссовского фильтра. Разрешается использовать библиотеки для работы с изображениями. Подобрать по кросс-валидации с 3 фолдами параметры преобразований. Рассмотреть следующие параметры для преобразований и их комбинации:\n",
    "* (a) Величина поворота: 5, 10, 15 (в каждую из двух сторон)\n",
    "* (b) Величина смещения: 1, 2, 3 пикселя (по каждой из двух размерностей)\n",
    "* (c) Дисперсия фильтра Гаусса: 0.5, 1, 1.5"
   ]
  },
  {
   "cell_type": "code",
   "execution_count": 3,
   "metadata": {},
   "outputs": [
    {
     "name": "stdout",
     "output_type": "stream",
     "text": [
      "score a(5) -- dict_values([array([0.99815 , 0.996675, 0.9943  ])])\n"
     ]
    }
   ],
   "source": [
    "# (a)\n",
    "import scipy\n",
    "from scipy.ndimage import rotate\n",
    "\n",
    "\n",
    "X_tr_a5 = np.zeros((120000, 784))\n",
    "for i in range(60000):\n",
    "    X_tr_a5[i] = X_train[i]\n",
    "for i in range(60000, 120000):\n",
    "    X_tr_a5[i] = scipy.ndimage.rotate(X_train[i-60000].reshape((28, 28)), 5, reshape = False, prefilter=False).reshape(784,)\n",
    "y_tr_2x = np.zeros(120000)\n",
    "for i in range(60000):\n",
    "    y_tr_2x[i] = y_train[i]\n",
    "for i in range(60000, 120000):\n",
    "    y_tr_2x[i] = y_train[i-60000]\n",
    "print('score a(5) --', knn_cross_val_score(X_tr_a5, y_tr_2x.astype(np.int),\n",
    "      k_list=[3], score='accuracy', cv=None, k=3, strategy='brute',\n",
    "      metric='cosine', weights=True, test_block_size=1).values())"
   ]
  },
  {
   "cell_type": "code",
   "execution_count": 4,
   "metadata": {},
   "outputs": [
    {
     "name": "stdout",
     "output_type": "stream",
     "text": [
      "score a(10) -- dict_values([array([0.985025, 0.98505 , 0.980375])])\n"
     ]
    }
   ],
   "source": [
    "X_tr_a10 = np.zeros((120000, 784))\n",
    "for i in range(60000):\n",
    "    X_tr_a10[i] = X_train[i]\n",
    "for i in range(60000, 120000):\n",
    "    X_tr_a10[i] = scipy.ndimage.rotate(X_train[i-60000].reshape((28, 28)), 10, reshape = False, prefilter=False).reshape(784,)\n",
    "print('score a(10) --', knn_cross_val_score(X_tr_a10, y_tr_2x.astype(np.int),\n",
    "      k_list=[3], score='accuracy', cv=None, k=3, strategy='brute',\n",
    "      metric='cosine', weights=True, test_block_size=1).values())"
   ]
  },
  {
   "cell_type": "code",
   "execution_count": 5,
   "metadata": {},
   "outputs": [
    {
     "name": "stdout",
     "output_type": "stream",
     "text": [
      "score -- dict_values([array([0.972275, 0.9781  , 0.973275])])\n"
     ]
    }
   ],
   "source": [
    "X_tr_a15 = np.zeros((120000, 784))\n",
    "for i in range(60000):\n",
    "    X_tr_a15[i] = X_train[i]\n",
    "for i in range(60000, 120000):\n",
    "    X_tr_a15[i] = scipy.ndimage.rotate(X_train[i-60000].reshape((28, 28)), 15, reshape = False, prefilter=False).reshape(784,)\n",
    "print('score --', knn_cross_val_score(X_tr_a15, y_tr_2x.astype(np.int),\n",
    "      k_list=[3], score='accuracy', cv=None, k=3, strategy='brute',\n",
    "      metric='cosine', weights=True, test_block_size=1).values())"
   ]
  },
  {
   "cell_type": "code",
   "execution_count": 6,
   "metadata": {},
   "outputs": [
    {
     "name": "stdout",
     "output_type": "stream",
     "text": [
      "score -- dict_values([array([0.998075, 0.996425, 0.9942  ])])\n"
     ]
    }
   ],
   "source": [
    "X_tr_a5_r = np.zeros((120000, 784))\n",
    "for i in range(60000):\n",
    "    X_tr_a5_r[i] = X_train[i]\n",
    "for i in range(60000, 120000):\n",
    "    X_tr_a5_r[i] = scipy.ndimage.rotate(X_train[i-60000].reshape((28, 28)), -5, reshape = False, prefilter=False).reshape(784,)\n",
    "print('score --', knn_cross_val_score(X_tr_a5_r, y_tr_2x.astype(np.int),\n",
    "      k_list=[3], score='accuracy', cv=None, k=3, strategy='brute',\n",
    "      metric='cosine', weights=True, test_block_size=1).values())"
   ]
  },
  {
   "cell_type": "code",
   "execution_count": 7,
   "metadata": {},
   "outputs": [
    {
     "name": "stdout",
     "output_type": "stream",
     "text": [
      "score -- dict_values([array([0.983575, 0.9845  , 0.98005 ])])\n"
     ]
    }
   ],
   "source": [
    "X_tr_a10_r = np.zeros((120000, 784))\n",
    "for i in range(60000):\n",
    "    X_tr_a10_r[i] = X_train[i]\n",
    "for i in range(60000, 120000):\n",
    "    X_tr_a10_r[i] = scipy.ndimage.rotate(X_train[i-60000].reshape((28, 28)), -10, reshape = False, prefilter=False).reshape(784,)\n",
    "print('score --', knn_cross_val_score(X_tr_a10_r, y_tr_2x.astype(np.int),\n",
    "      k_list=[3], score='accuracy', cv=None, k=3, strategy='brute',\n",
    "      metric='cosine', weights=True, test_block_size=1).values())"
   ]
  },
  {
   "cell_type": "code",
   "execution_count": 8,
   "metadata": {},
   "outputs": [
    {
     "name": "stdout",
     "output_type": "stream",
     "text": [
      "score -- dict_values([array([0.96985 , 0.97705 , 0.973425])])\n"
     ]
    }
   ],
   "source": [
    "X_tr_a15_r = np.zeros((120000, 784))\n",
    "for i in range(60000):\n",
    "    X_tr_a15_r[i] = X_train[i]\n",
    "for i in range(60000, 120000):\n",
    "    X_tr_a15_r[i] = scipy.ndimage.rotate(X_train[i-60000].reshape((28, 28)), -15, reshape = False, prefilter=False).reshape(784,)\n",
    "print('score --', knn_cross_val_score(X_tr_a15_r, y_tr_2x.astype(np.int),\n",
    "      k_list=[3], score='accuracy', cv=None, k=3, strategy='brute',\n",
    "      metric='cosine', weights=True, test_block_size=1).values())"
   ]
  },
  {
   "cell_type": "code",
   "execution_count": 9,
   "metadata": {},
   "outputs": [
    {
     "name": "stdout",
     "output_type": "stream",
     "text": [
      "score -- dict_values([array([0.96995 , 0.978125, 0.97105 ])])\n"
     ]
    }
   ],
   "source": [
    "# (b)\n",
    "from scipy.ndimage import shift\n",
    "\n",
    "\n",
    "X_tr_b1 = np.zeros((120000, 784))\n",
    "for i in range(60000):\n",
    "    X_tr_b1[i] = X_train[i]\n",
    "for i in range(60000, 120000):\n",
    "    X_tr_b1[i] = scipy.ndimage.shift(X_train[i-60000].reshape((28, 28)), 1, prefilter=False).reshape(784,)\n",
    "print('score --', knn_cross_val_score(X_tr_b1, y_tr_2x.astype(np.int),\n",
    "      k_list=[3], score='accuracy', cv=None, k=3, strategy='brute',\n",
    "      metric='cosine', weights=True, test_block_size=1).values())"
   ]
  },
  {
   "cell_type": "code",
   "execution_count": 10,
   "metadata": {},
   "outputs": [
    {
     "name": "stdout",
     "output_type": "stream",
     "text": [
      "score -- dict_values([array([0.96475, 0.97545, 0.96865])])\n"
     ]
    }
   ],
   "source": [
    "X_tr_b2 = np.zeros((120000, 784))\n",
    "for i in range(60000):\n",
    "    X_tr_b2[i] = X_train[i]\n",
    "for i in range(60000, 120000):\n",
    "    X_tr_b2[i] = scipy.ndimage.shift(X_train[i-60000].reshape((28, 28)), 2, prefilter=False).reshape(784,)\n",
    "print('score --', knn_cross_val_score(X_tr_b2, y_tr_2x.astype(np.int),\n",
    "      k_list=[3], score='accuracy', cv=None, k=3, strategy='brute',\n",
    "      metric='cosine', weights=True, test_block_size=1).values())"
   ]
  },
  {
   "cell_type": "code",
   "execution_count": 11,
   "metadata": {},
   "outputs": [
    {
     "name": "stdout",
     "output_type": "stream",
     "text": [
      "score -- dict_values([array([0.96465, 0.97505, 0.9686 ])])\n"
     ]
    }
   ],
   "source": [
    "X_tr_b3 = np.zeros((120000, 784))\n",
    "for i in range(60000):\n",
    "    X_tr_b3[i] = X_train[i]\n",
    "for i in range(60000, 120000):\n",
    "    X_tr_b3[i] = scipy.ndimage.shift(X_train[i-60000].reshape((28, 28)), 3, prefilter=False).reshape(784,)\n",
    "print('score --', knn_cross_val_score(X_tr_b3, y_tr_2x.astype(np.int),\n",
    "      k_list=[3], score='accuracy', cv=None, k=3, strategy='brute',\n",
    "      metric='cosine', weights=True, test_block_size=1).values())"
   ]
  },
  {
   "cell_type": "code",
   "execution_count": 17,
   "metadata": {},
   "outputs": [
    {
     "name": "stdout",
     "output_type": "stream",
     "text": [
      "score -- dict_values([array([1., 1., 1.])])\n"
     ]
    }
   ],
   "source": [
    "# (c)\n",
    "import scipy\n",
    "\n",
    "\n",
    "X_tr_c1 = np.zeros((120000, 784))\n",
    "for i in range(60000):\n",
    "    X_tr_c1[i] = X_train[i]\n",
    "for i in range(60000, 120000):\n",
    "    X_tr_c1[i] = scipy.ndimage.filters.gaussian_filter(X_train[i-60000].reshape((28, 28)), 0.5).reshape(784,)\n",
    "print('score --', knn_cross_val_score(X_tr_c1, y_tr_2x.astype(np.int),\n",
    "      k_list=[3], score='accuracy', cv=None, k=3, strategy='brute',\n",
    "      metric='cosine', weights=True, test_block_size=1).values())"
   ]
  },
  {
   "cell_type": "code",
   "execution_count": 13,
   "metadata": {},
   "outputs": [
    {
     "name": "stdout",
     "output_type": "stream",
     "text": [
      "score -- dict_values([array([0.9985  , 0.993425, 0.986175])])\n"
     ]
    }
   ],
   "source": [
    "X_tr_c2 = np.zeros((120000, 784))\n",
    "for i in range(60000):\n",
    "    X_tr_c2[i] = X_train[i]\n",
    "for i in range(60000, 120000):\n",
    "    X_tr_c2[i] = scipy.ndimage.filters.gaussian_filter(X_train[i-60000].reshape((28, 28)), 1).reshape(784,)\n",
    "print('score --', knn_cross_val_score(X_tr_c2, y_tr_2x.astype(np.int),\n",
    "      k_list=[3], score='accuracy', cv=None, k=3, strategy='brute',\n",
    "      metric='cosine', weights=True, test_block_size=1).values())"
   ]
  },
  {
   "cell_type": "code",
   "execution_count": 18,
   "metadata": {},
   "outputs": [
    {
     "name": "stdout",
     "output_type": "stream",
     "text": [
      "score -- dict_values([array([0.989   , 0.98075 , 0.967625])])\n"
     ]
    }
   ],
   "source": [
    "X_tr_c3 = np.zeros((120000, 784))\n",
    "for i in range(60000):\n",
    "    X_tr_c3[i] = X_train[i]\n",
    "for i in range(60000, 120000):\n",
    "    X_tr_c3[i] = scipy.ndimage.filters.gaussian_filter(X_train[i-60000].reshape((28, 28)), 1.5).reshape(784,)\n",
    "print('score --', knn_cross_val_score(X_tr_c3, y_tr_2x.astype(np.int),\n",
    "      k_list=[3], score='accuracy', cv=None, k=3, strategy='brute',\n",
    "      metric='cosine', weights=True, test_block_size=1).values())"
   ]
  },
  {
   "cell_type": "code",
   "execution_count": 20,
   "metadata": {},
   "outputs": [
    {
     "name": "stdout",
     "output_type": "stream",
     "text": [
      "score -- dict_values([array([1., 1., 1.])])\n"
     ]
    }
   ],
   "source": [
    "X_tr_all = np.zeros((120000, 784))\n",
    "for i in range(60000):\n",
    "    X_tr_all[i] = X_train[i]\n",
    "for i in range(60000, 120000):\n",
    "    X_tr_all[i] = scipy.ndimage.rotate(X_train[i-60000].reshape((28, 28)), 5, reshape = False, prefilter=False).reshape(784,)\n",
    "    X_tr_all[i] = scipy.ndimage.shift(X_train[i-60000].reshape((28, 28)), 1, prefilter=False).reshape(784,)\n",
    "    X_tr_all[i] = scipy.ndimage.filters.gaussian_filter(X_train[i-60000].reshape((28, 28)), 0.5).reshape(784,)\n",
    "print('score --', knn_cross_val_score(X_tr_all, y_tr_2x.astype(np.int),\n",
    "      k_list=[3], score='accuracy', cv=None, k=3, strategy='brute',\n",
    "      metric='cosine', weights=True, test_block_size=1).values())  "
   ]
  },
  {
   "cell_type": "code",
   "execution_count": null,
   "metadata": {},
   "outputs": [],
   "source": [
    "knnClassifier = KNNClassifier(k=3, strategy='brute', metric='cosine',\n",
    "                               weights=True, test_block_size=1)\n",
    "knnClassifier.fit(X_tr_all, y_tr_2x.astype(np.int))\n",
    "y_pred_test = knnClassifier.predict(X_test)"
   ]
  },
  {
   "cell_type": "code",
   "execution_count": 25,
   "metadata": {},
   "outputs": [
    {
     "name": "stdout",
     "output_type": "stream",
     "text": [
      "train predict accuracy: 0.9751\n"
     ]
    }
   ],
   "source": [
    "n_correct = np.sum(y_pred_test == y_test.astype(np.int))\n",
    "accuracy = n_correct / y_test.shape[0]\n",
    "print('train predict accuracy:', accuracy)"
   ]
  },
  {
   "cell_type": "code",
   "execution_count": 26,
   "metadata": {},
   "outputs": [],
   "source": [
    "X_tr_all = np.zeros((120000, 784))\n",
    "for i in range(60000):\n",
    "    X_tr_all[i] = X_train[i]\n",
    "for i in range(60000, 80000):\n",
    "    X_tr_all[i] = scipy.ndimage.rotate(X_train[i-60000].reshape((28, 28)), 5, reshape = False, prefilter=False).reshape(784,)\n",
    "for i in range(80000, 100000):\n",
    "    X_tr_all[i] = scipy.ndimage.shift(X_train[i-60000].reshape((28, 28)), 1, prefilter=False).reshape(784,)\n",
    "for i in range(100000, 120000):\n",
    "    X_tr_all[i] = scipy.ndimage.filters.gaussian_filter(X_train[i-60000].reshape((28, 28)), 0.5).reshape(784,)"
   ]
  },
  {
   "cell_type": "code",
   "execution_count": 28,
   "metadata": {},
   "outputs": [
    {
     "name": "stdout",
     "output_type": "stream",
     "text": [
      "train predict accuracy: 0.9766\n"
     ]
    }
   ],
   "source": [
    "knnClassifier = KNNClassifier(k=3, strategy='brute', metric='cosine',\n",
    "                               weights=True, test_block_size=1)\n",
    "knnClassifier.fit(X_tr_all, y_tr_2x.astype(np.int))\n",
    "y_pred_test = knnClassifier.predict(X_test)\n",
    "n_correct = np.sum(y_pred_test == y_test.astype(np.int))\n",
    "accuracy = n_correct / y_test.shape[0]\n",
    "print('train predict accuracy:', accuracy)"
   ]
  },
  {
   "cell_type": "code",
   "execution_count": 32,
   "metadata": {},
   "outputs": [
    {
     "data": {
      "text/plain": [
       "array([[ 978,    0,    0,    0,    0,    0,    0,    1,    1,    0],\n",
       "       [   0, 1128,    3,    0,    0,    1,    3,    0,    0,    0],\n",
       "       [   7,    0, 1006,    3,    1,    0,    1,   10,    4,    0],\n",
       "       [   0,    0,    2,  989,    1,    6,    0,    4,    5,    3],\n",
       "       [   0,    1,    0,    0,  948,    0,    5,    4,    2,   22],\n",
       "       [   5,    1,    0,   11,    1,  857,    9,    1,    3,    4],\n",
       "       [   4,    2,    0,    0,    2,    2,  946,    0,    2,    0],\n",
       "       [   0,   11,    7,    0,    3,    0,    0, 1001,    0,    6],\n",
       "       [   5,    0,    3,   11,    3,    7,    3,    4,  935,    3],\n",
       "       [   3,    4,    1,    4,    3,    3,    1,    9,    3,  978]])"
      ]
     },
     "execution_count": 32,
     "metadata": {},
     "output_type": "execute_result"
    }
   ],
   "source": [
    "from sklearn.metrics import confusion_matrix\n",
    "confusion_matrix(y_test, y_pred_test.astype(np.str))"
   ]
  },
  {
   "cell_type": "markdown",
   "metadata": {},
   "source": [
    "### Эксперимент №6\n",
    "\n",
    "**Условие**: Реализовать описанный выше алгоритм, основанный на преобразовании объектов тестовой выборки. Проверить то же самое множество параметров, что и в предыдущем пункте. Проанализировать как изменилась матрица ошибок, какие ошибки алгоритма помогает исправить каждое преобразование. Качественно сравнить два подхода (5 и 6 пункты) между собой.\n",
    "Замечание. В рамках данного эксперимента подразумевается обучение модели на оригинальном датаесете, преобразования объектов тестовой выборки, применение модели к преобразованным копиям изображения из тестовой выборки и получение результата путем голосования среди преобразованных объектов."
   ]
  },
  {
   "cell_type": "code",
   "execution_count": 104,
   "metadata": {},
   "outputs": [],
   "source": [
    "X_tests_a = np.zeros((10000, 784))\n",
    "for i in range(10000):\n",
    "    X_tests_a[i] = scipy.ndimage.rotate(X_test[i].reshape((28, 28)), 5, reshape = False, prefilter=False).reshape(784,)\n",
    "X_tests_b = np.zeros((10000, 784))\n",
    "for i in range(10000):\n",
    "    X_tests_b[i] = scipy.ndimage.shift(X_test[i].reshape((28, 28)), 1, prefilter=False).reshape(784,)\n",
    "X_tests_c = np.zeros((10000, 784))\n",
    "for i in range(10000):\n",
    "    X_tests_c[i] = scipy.ndimage.filters.gaussian_filter(X_test[i].reshape((28, 28)), 0.5).reshape(784,)"
   ]
  },
  {
   "cell_type": "code",
   "execution_count": 105,
   "metadata": {},
   "outputs": [],
   "source": [
    "knnClassifier = KNNClassifier(k=3, strategy='brute', metric='cosine',\n",
    "                               weights=True, test_block_size=1)\n",
    "knnClassifier.fit(X_train, y_train.astype(int))"
   ]
  },
  {
   "cell_type": "code",
   "execution_count": 106,
   "metadata": {},
   "outputs": [],
   "source": [
    "y_test_a = knnClassifier.predict(X_tests_a)\n",
    "y_test_b = knnClassifier.predict(X_tests_b)\n",
    "y_test_c = knnClassifier.predict(X_tests_c)"
   ]
  },
  {
   "cell_type": "code",
   "execution_count": 108,
   "metadata": {},
   "outputs": [],
   "source": [
    "Y_T = np.zeros((3, 10000))\n",
    "Y_T[0], Y_T[1], Y_T[2] = y_test_a, y_test_b, y_test_c"
   ]
  },
  {
   "cell_type": "code",
   "execution_count": 109,
   "metadata": {},
   "outputs": [],
   "source": [
    "res = []\n",
    "for i in Y_T.T:\n",
    "    values, counts = np.unique(i, return_counts=True)\n",
    "    ind = np.argmax(counts)\n",
    "    res.append(values[ind])\n",
    "y_res = np.array(res)"
   ]
  },
  {
   "cell_type": "code",
   "execution_count": 111,
   "metadata": {},
   "outputs": [
    {
     "name": "stdout",
     "output_type": "stream",
     "text": [
      "train predict accuracy: 0.9715\n"
     ]
    }
   ],
   "source": [
    "n_correct = np.sum(y_res == y_test.astype(np.int))\n",
    "accuracy = n_correct / y_test.shape[0]\n",
    "print('train predict accuracy:', accuracy)"
   ]
  },
  {
   "cell_type": "code",
   "execution_count": 151,
   "metadata": {},
   "outputs": [
    {
     "data": {
      "application/pdf": "[encoded data removed]",
      "text/plain": [
       "<Figure size 720x720 with 2 Axes>"
      ]
     },
     "metadata": {
      "needs_background": "light"
     },
     "output_type": "display_data"
    }
   ],
   "source": [
    "import numpy as np\n",
    "import itertools\n",
    "from sklearn.metrics import confusion_matrix\n",
    "%matplotlib inline\n",
    "%config InlineBackend.figure_format = 'pdf'\n",
    "def plot_confusion_matrix(cm, classes,\n",
    "                          normalize=False,\n",
    "                          title='Confusion matrix',\n",
    "                          cmap=plt.cm.cubehelix):\n",
    "\n",
    "    plt.imshow(cm, interpolation='nearest', cmap=cmap)\n",
    "    plt.title(title, fontsize=30)\n",
    "    plt.colorbar()\n",
    "    tick_marks = np.arange(len(classes))\n",
    "    plt.xticks(tick_marks, classes, fontsize=20)\n",
    "    plt.yticks(tick_marks, classes, fontsize=20)\n",
    "\n",
    "    fmt = '.2f' if normalize else 'd'\n",
    "    thresh = cm.max() / 2.\n",
    "\n",
    "    for i, j in itertools.product(range(cm.shape[0]), range(cm.shape[1])):\n",
    "        plt.text(j, i, format(cm[i, j], fmt), horizontalalignment=\"center\", \n",
    "                 color=\"white\" if cm[i, j] < thresh else \"black\", fontsize=20)\n",
    "\n",
    "    plt.tight_layout()\n",
    "    plt.xlabel('Predicted label', fontsize=20)\n",
    "\n",
    "    return plt\n",
    "cm = confusion_matrix(y_test, y_res.astype(np.int).astype(np.str))\n",
    "fig = plt.figure(figsize=(10, 10))\n",
    "plot = plot_confusion_matrix(cm, classes=cl, normalize=False, title='Confusion matrix')\n",
    "plt.savefig('final.pdf')"
   ]
  }
 ],
 "metadata": {
  "kernelspec": {
   "display_name": "Python 3",
   "language": "python",
   "name": "python3"
  },
  "language_info": {
   "codemirror_mode": {
    "name": "ipython",
    "version": 3
   },
   "file_extension": ".py",
   "mimetype": "text/x-python",
   "name": "python",
   "nbconvert_exporter": "python",
   "pygments_lexer": "ipython3",
   "version": "3.8.3"
  }
 },
 "nbformat": 4,
 "nbformat_minor": 4
}
